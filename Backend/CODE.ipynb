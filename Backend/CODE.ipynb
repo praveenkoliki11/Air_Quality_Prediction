{
 "cells": [
  {
   "cell_type": "markdown",
   "metadata": {},
   "source": [
    "# # Data Collection"
   ]
  },
  {
   "cell_type": "markdown",
   "metadata": {},
   "source": [
    "### Dataset Description\n",
    "\n",
    "Dataset Link: https://www.kaggle.com/datasets/rohanrao/air-quality-data-in-india?utm_source=chatgpt.com\n",
    "\n",
    "---\n",
    "\n",
    "### 🧾 **Dataset Title:**  \n",
    "**Air Quality Data in India (2015 - 2020)**\n",
    "\n",
    "### 📅 **Time Period Covered:**  \n",
    "January 2015 to July 2020\n",
    "\n",
    "### 📍 **Geographical Coverage:**  \n",
    "Data collected from multiple cities across **India**, including major metros like Delhi, Mumbai, Ahmedabad, Bengaluru, Hyderabad, Kolkata, Chennai, and more.\n",
    "\n",
    "### 📊 **Description:**  \n",
    "This dataset contains daily and hourly **air quality data** from stations across India. It includes pollutant measurements and corresponding **Air Quality Index (AQI)** values. It is useful for time series analysis, environmental research, air pollution prediction, and more.\n",
    "\n",
    "---\n",
    "\n",
    "### 📌 **Columns and Their Meaning:**\n",
    "\n",
    "| Column       | Description |\n",
    "|--------------|-------------|\n",
    "| `City`       | Name of the city where the air quality monitoring station is located |\n",
    "| `Date`       | Date of the recorded data |\n",
    "| `PM2.5`      | Fine inhalable particles ≤2.5 micrometers in diameter |\n",
    "| `PM10`       | Coarse particles ≤10 micrometers |\n",
    "| `NO`         | Nitric Oxide concentration |\n",
    "| `NO2`        | Nitrogen Dioxide concentration |\n",
    "| `NOx`        | Sum of NO and NO2 |\n",
    "| `NH3`        | Ammonia concentration |\n",
    "| `CO`         | Carbon Monoxide concentration |\n",
    "| `SO2`        | Sulfur Dioxide concentration |\n",
    "| `O3`         | Ozone concentration |\n",
    "| `Benzene`    | Benzene concentration (a harmful volatile organic compound) |\n",
    "| `Toluene`    | Toluene concentration |\n",
    "| `Xylene`     | Xylene concentration |\n",
    "| `AQI`        | Calculated Air Quality Index based on pollutant levels |\n",
    "| `AQI_Bucket` | Category of air quality (e.g., Good, Satisfactory, Moderate, Poor, etc.) |"
   ]
  },
  {
   "cell_type": "code",
   "execution_count": null,
   "metadata": {},
   "outputs": [],
   "source": [
    "import pandas as pd\n",
    "import numpy as np \n",
    "import seaborn as sns \n",
    "import matplotlib.pyplot as plt \n",
    "from sklearn.metrics import accuracy_score, classification_report, confusion_matrix, f1_score, ConfusionMatrixDisplay\n",
    "import joblib"
   ]
  },
  {
   "cell_type": "code",
   "execution_count": null,
   "metadata": {},
   "outputs": [
    {
     "data": {
      "text/html": [
       "<div>\n",
       "<style scoped>\n",
       "    .dataframe tbody tr th:only-of-type {\n",
       "        vertical-align: middle;\n",
       "    }\n",
       "\n",
       "    .dataframe tbody tr th {\n",
       "        vertical-align: top;\n",
       "    }\n",
       "\n",
       "    .dataframe thead th {\n",
       "        text-align: right;\n",
       "    }\n",
       "</style>\n",
       "<table border=\"1\" class=\"dataframe\">\n",
       "  <thead>\n",
       "    <tr style=\"text-align: right;\">\n",
       "      <th></th>\n",
       "      <th>City</th>\n",
       "      <th>Date</th>\n",
       "      <th>PM2.5</th>\n",
       "      <th>PM10</th>\n",
       "      <th>NO</th>\n",
       "      <th>NO2</th>\n",
       "      <th>NOx</th>\n",
       "      <th>NH3</th>\n",
       "      <th>CO</th>\n",
       "      <th>SO2</th>\n",
       "      <th>O3</th>\n",
       "      <th>Benzene</th>\n",
       "      <th>Toluene</th>\n",
       "      <th>Xylene</th>\n",
       "      <th>AQI</th>\n",
       "      <th>AQI_Bucket</th>\n",
       "    </tr>\n",
       "  </thead>\n",
       "  <tbody>\n",
       "    <tr>\n",
       "      <th>0</th>\n",
       "      <td>Ahmedabad</td>\n",
       "      <td>2015-01-01</td>\n",
       "      <td>NaN</td>\n",
       "      <td>NaN</td>\n",
       "      <td>0.92</td>\n",
       "      <td>18.22</td>\n",
       "      <td>17.15</td>\n",
       "      <td>NaN</td>\n",
       "      <td>0.92</td>\n",
       "      <td>27.64</td>\n",
       "      <td>133.36</td>\n",
       "      <td>0.00</td>\n",
       "      <td>0.02</td>\n",
       "      <td>0.00</td>\n",
       "      <td>NaN</td>\n",
       "      <td>NaN</td>\n",
       "    </tr>\n",
       "    <tr>\n",
       "      <th>1</th>\n",
       "      <td>Ahmedabad</td>\n",
       "      <td>2015-01-02</td>\n",
       "      <td>NaN</td>\n",
       "      <td>NaN</td>\n",
       "      <td>0.97</td>\n",
       "      <td>15.69</td>\n",
       "      <td>16.46</td>\n",
       "      <td>NaN</td>\n",
       "      <td>0.97</td>\n",
       "      <td>24.55</td>\n",
       "      <td>34.06</td>\n",
       "      <td>3.68</td>\n",
       "      <td>5.50</td>\n",
       "      <td>3.77</td>\n",
       "      <td>NaN</td>\n",
       "      <td>NaN</td>\n",
       "    </tr>\n",
       "    <tr>\n",
       "      <th>2</th>\n",
       "      <td>Ahmedabad</td>\n",
       "      <td>2015-01-03</td>\n",
       "      <td>NaN</td>\n",
       "      <td>NaN</td>\n",
       "      <td>17.40</td>\n",
       "      <td>19.30</td>\n",
       "      <td>29.70</td>\n",
       "      <td>NaN</td>\n",
       "      <td>17.40</td>\n",
       "      <td>29.07</td>\n",
       "      <td>30.70</td>\n",
       "      <td>6.80</td>\n",
       "      <td>16.40</td>\n",
       "      <td>2.25</td>\n",
       "      <td>NaN</td>\n",
       "      <td>NaN</td>\n",
       "    </tr>\n",
       "    <tr>\n",
       "      <th>3</th>\n",
       "      <td>Ahmedabad</td>\n",
       "      <td>2015-01-04</td>\n",
       "      <td>NaN</td>\n",
       "      <td>NaN</td>\n",
       "      <td>1.70</td>\n",
       "      <td>18.48</td>\n",
       "      <td>17.97</td>\n",
       "      <td>NaN</td>\n",
       "      <td>1.70</td>\n",
       "      <td>18.59</td>\n",
       "      <td>36.08</td>\n",
       "      <td>4.43</td>\n",
       "      <td>10.14</td>\n",
       "      <td>1.00</td>\n",
       "      <td>NaN</td>\n",
       "      <td>NaN</td>\n",
       "    </tr>\n",
       "    <tr>\n",
       "      <th>4</th>\n",
       "      <td>Ahmedabad</td>\n",
       "      <td>2015-01-05</td>\n",
       "      <td>NaN</td>\n",
       "      <td>NaN</td>\n",
       "      <td>22.10</td>\n",
       "      <td>21.42</td>\n",
       "      <td>37.76</td>\n",
       "      <td>NaN</td>\n",
       "      <td>22.10</td>\n",
       "      <td>39.33</td>\n",
       "      <td>39.31</td>\n",
       "      <td>7.01</td>\n",
       "      <td>18.89</td>\n",
       "      <td>2.78</td>\n",
       "      <td>NaN</td>\n",
       "      <td>NaN</td>\n",
       "    </tr>\n",
       "    <tr>\n",
       "      <th>...</th>\n",
       "      <td>...</td>\n",
       "      <td>...</td>\n",
       "      <td>...</td>\n",
       "      <td>...</td>\n",
       "      <td>...</td>\n",
       "      <td>...</td>\n",
       "      <td>...</td>\n",
       "      <td>...</td>\n",
       "      <td>...</td>\n",
       "      <td>...</td>\n",
       "      <td>...</td>\n",
       "      <td>...</td>\n",
       "      <td>...</td>\n",
       "      <td>...</td>\n",
       "      <td>...</td>\n",
       "      <td>...</td>\n",
       "    </tr>\n",
       "    <tr>\n",
       "      <th>29526</th>\n",
       "      <td>Visakhapatnam</td>\n",
       "      <td>2020-06-27</td>\n",
       "      <td>15.02</td>\n",
       "      <td>50.94</td>\n",
       "      <td>7.68</td>\n",
       "      <td>25.06</td>\n",
       "      <td>19.54</td>\n",
       "      <td>12.47</td>\n",
       "      <td>0.47</td>\n",
       "      <td>8.55</td>\n",
       "      <td>23.30</td>\n",
       "      <td>2.24</td>\n",
       "      <td>12.07</td>\n",
       "      <td>0.73</td>\n",
       "      <td>41.0</td>\n",
       "      <td>Good</td>\n",
       "    </tr>\n",
       "    <tr>\n",
       "      <th>29527</th>\n",
       "      <td>Visakhapatnam</td>\n",
       "      <td>2020-06-28</td>\n",
       "      <td>24.38</td>\n",
       "      <td>74.09</td>\n",
       "      <td>3.42</td>\n",
       "      <td>26.06</td>\n",
       "      <td>16.53</td>\n",
       "      <td>11.99</td>\n",
       "      <td>0.52</td>\n",
       "      <td>12.72</td>\n",
       "      <td>30.14</td>\n",
       "      <td>0.74</td>\n",
       "      <td>2.21</td>\n",
       "      <td>0.38</td>\n",
       "      <td>70.0</td>\n",
       "      <td>Satisfactory</td>\n",
       "    </tr>\n",
       "    <tr>\n",
       "      <th>29528</th>\n",
       "      <td>Visakhapatnam</td>\n",
       "      <td>2020-06-29</td>\n",
       "      <td>22.91</td>\n",
       "      <td>65.73</td>\n",
       "      <td>3.45</td>\n",
       "      <td>29.53</td>\n",
       "      <td>18.33</td>\n",
       "      <td>10.71</td>\n",
       "      <td>0.48</td>\n",
       "      <td>8.42</td>\n",
       "      <td>30.96</td>\n",
       "      <td>0.01</td>\n",
       "      <td>0.01</td>\n",
       "      <td>0.00</td>\n",
       "      <td>68.0</td>\n",
       "      <td>Satisfactory</td>\n",
       "    </tr>\n",
       "    <tr>\n",
       "      <th>29529</th>\n",
       "      <td>Visakhapatnam</td>\n",
       "      <td>2020-06-30</td>\n",
       "      <td>16.64</td>\n",
       "      <td>49.97</td>\n",
       "      <td>4.05</td>\n",
       "      <td>29.26</td>\n",
       "      <td>18.80</td>\n",
       "      <td>10.03</td>\n",
       "      <td>0.52</td>\n",
       "      <td>9.84</td>\n",
       "      <td>28.30</td>\n",
       "      <td>0.00</td>\n",
       "      <td>0.00</td>\n",
       "      <td>0.00</td>\n",
       "      <td>54.0</td>\n",
       "      <td>Satisfactory</td>\n",
       "    </tr>\n",
       "    <tr>\n",
       "      <th>29530</th>\n",
       "      <td>Visakhapatnam</td>\n",
       "      <td>2020-07-01</td>\n",
       "      <td>15.00</td>\n",
       "      <td>66.00</td>\n",
       "      <td>0.40</td>\n",
       "      <td>26.85</td>\n",
       "      <td>14.05</td>\n",
       "      <td>5.20</td>\n",
       "      <td>0.59</td>\n",
       "      <td>2.10</td>\n",
       "      <td>17.05</td>\n",
       "      <td>NaN</td>\n",
       "      <td>NaN</td>\n",
       "      <td>NaN</td>\n",
       "      <td>50.0</td>\n",
       "      <td>Good</td>\n",
       "    </tr>\n",
       "  </tbody>\n",
       "</table>\n",
       "<p>29531 rows × 16 columns</p>\n",
       "</div>"
      ],
      "text/plain": [
       "                City        Date  PM2.5   PM10     NO    NO2    NOx    NH3  \\\n",
       "0          Ahmedabad  2015-01-01    NaN    NaN   0.92  18.22  17.15    NaN   \n",
       "1          Ahmedabad  2015-01-02    NaN    NaN   0.97  15.69  16.46    NaN   \n",
       "2          Ahmedabad  2015-01-03    NaN    NaN  17.40  19.30  29.70    NaN   \n",
       "3          Ahmedabad  2015-01-04    NaN    NaN   1.70  18.48  17.97    NaN   \n",
       "4          Ahmedabad  2015-01-05    NaN    NaN  22.10  21.42  37.76    NaN   \n",
       "...              ...         ...    ...    ...    ...    ...    ...    ...   \n",
       "29526  Visakhapatnam  2020-06-27  15.02  50.94   7.68  25.06  19.54  12.47   \n",
       "29527  Visakhapatnam  2020-06-28  24.38  74.09   3.42  26.06  16.53  11.99   \n",
       "29528  Visakhapatnam  2020-06-29  22.91  65.73   3.45  29.53  18.33  10.71   \n",
       "29529  Visakhapatnam  2020-06-30  16.64  49.97   4.05  29.26  18.80  10.03   \n",
       "29530  Visakhapatnam  2020-07-01  15.00  66.00   0.40  26.85  14.05   5.20   \n",
       "\n",
       "          CO    SO2      O3  Benzene  Toluene  Xylene   AQI    AQI_Bucket  \n",
       "0       0.92  27.64  133.36     0.00     0.02    0.00   NaN           NaN  \n",
       "1       0.97  24.55   34.06     3.68     5.50    3.77   NaN           NaN  \n",
       "2      17.40  29.07   30.70     6.80    16.40    2.25   NaN           NaN  \n",
       "3       1.70  18.59   36.08     4.43    10.14    1.00   NaN           NaN  \n",
       "4      22.10  39.33   39.31     7.01    18.89    2.78   NaN           NaN  \n",
       "...      ...    ...     ...      ...      ...     ...   ...           ...  \n",
       "29526   0.47   8.55   23.30     2.24    12.07    0.73  41.0          Good  \n",
       "29527   0.52  12.72   30.14     0.74     2.21    0.38  70.0  Satisfactory  \n",
       "29528   0.48   8.42   30.96     0.01     0.01    0.00  68.0  Satisfactory  \n",
       "29529   0.52   9.84   28.30     0.00     0.00    0.00  54.0  Satisfactory  \n",
       "29530   0.59   2.10   17.05      NaN      NaN     NaN  50.0          Good  \n",
       "\n",
       "[29531 rows x 16 columns]"
      ]
     },
     "execution_count": 2,
     "metadata": {},
     "output_type": "execute_result"
    }
   ],
   "source": [
    "df = pd.read_csv(r\"dataset\\city_day.csv\")\n",
    "df"
   ]
  },
  {
   "cell_type": "code",
   "execution_count": null,
   "metadata": {},
   "outputs": [
    {
     "data": {
      "text/plain": [
       "(29531, 16)"
      ]
     },
     "execution_count": 3,
     "metadata": {},
     "output_type": "execute_result"
    }
   ],
   "source": [
    "df.shape"
   ]
  },
  {
   "cell_type": "code",
   "execution_count": null,
   "metadata": {},
   "outputs": [
    {
     "data": {
      "text/plain": [
       "Index(['City', 'Date', 'PM2.5', 'PM10', 'NO', 'NO2', 'NOx', 'NH3', 'CO', 'SO2',\n",
       "       'O3', 'Benzene', 'Toluene', 'Xylene', 'AQI', 'AQI_Bucket'],\n",
       "      dtype='object')"
      ]
     },
     "execution_count": 4,
     "metadata": {},
     "output_type": "execute_result"
    }
   ],
   "source": [
    "df.columns"
   ]
  },
  {
   "cell_type": "code",
   "execution_count": null,
   "metadata": {},
   "outputs": [
    {
     "name": "stdout",
     "output_type": "stream",
     "text": [
      "<class 'pandas.core.frame.DataFrame'>\n",
      "RangeIndex: 29531 entries, 0 to 29530\n",
      "Data columns (total 16 columns):\n",
      " #   Column      Non-Null Count  Dtype  \n",
      "---  ------      --------------  -----  \n",
      " 0   City        29531 non-null  object \n",
      " 1   Date        29531 non-null  object \n",
      " 2   PM2.5       24933 non-null  float64\n",
      " 3   PM10        18391 non-null  float64\n",
      " 4   NO          25949 non-null  float64\n",
      " 5   NO2         25946 non-null  float64\n",
      " 6   NOx         25346 non-null  float64\n",
      " 7   NH3         19203 non-null  float64\n",
      " 8   CO          27472 non-null  float64\n",
      " 9   SO2         25677 non-null  float64\n",
      " 10  O3          25509 non-null  float64\n",
      " 11  Benzene     23908 non-null  float64\n",
      " 12  Toluene     21490 non-null  float64\n",
      " 13  Xylene      11422 non-null  float64\n",
      " 14  AQI         24850 non-null  float64\n",
      " 15  AQI_Bucket  24850 non-null  object \n",
      "dtypes: float64(13), object(3)\n",
      "memory usage: 3.6+ MB\n"
     ]
    }
   ],
   "source": [
    "df.info()"
   ]
  },
  {
   "cell_type": "code",
   "execution_count": null,
   "metadata": {},
   "outputs": [
    {
     "data": {
      "text/html": [
       "<div>\n",
       "<style scoped>\n",
       "    .dataframe tbody tr th:only-of-type {\n",
       "        vertical-align: middle;\n",
       "    }\n",
       "\n",
       "    .dataframe tbody tr th {\n",
       "        vertical-align: top;\n",
       "    }\n",
       "\n",
       "    .dataframe thead th {\n",
       "        text-align: right;\n",
       "    }\n",
       "</style>\n",
       "<table border=\"1\" class=\"dataframe\">\n",
       "  <thead>\n",
       "    <tr style=\"text-align: right;\">\n",
       "      <th></th>\n",
       "      <th>PM2.5</th>\n",
       "      <th>PM10</th>\n",
       "      <th>NO</th>\n",
       "      <th>NO2</th>\n",
       "      <th>NOx</th>\n",
       "      <th>NH3</th>\n",
       "      <th>CO</th>\n",
       "      <th>SO2</th>\n",
       "      <th>O3</th>\n",
       "      <th>Benzene</th>\n",
       "      <th>Toluene</th>\n",
       "      <th>Xylene</th>\n",
       "      <th>AQI</th>\n",
       "    </tr>\n",
       "  </thead>\n",
       "  <tbody>\n",
       "    <tr>\n",
       "      <th>count</th>\n",
       "      <td>24933.000000</td>\n",
       "      <td>18391.000000</td>\n",
       "      <td>25949.000000</td>\n",
       "      <td>25946.000000</td>\n",
       "      <td>25346.000000</td>\n",
       "      <td>19203.000000</td>\n",
       "      <td>27472.000000</td>\n",
       "      <td>25677.000000</td>\n",
       "      <td>25509.000000</td>\n",
       "      <td>23908.000000</td>\n",
       "      <td>21490.000000</td>\n",
       "      <td>11422.000000</td>\n",
       "      <td>24850.000000</td>\n",
       "    </tr>\n",
       "    <tr>\n",
       "      <th>mean</th>\n",
       "      <td>67.450578</td>\n",
       "      <td>118.127103</td>\n",
       "      <td>17.574730</td>\n",
       "      <td>28.560659</td>\n",
       "      <td>32.309123</td>\n",
       "      <td>23.483476</td>\n",
       "      <td>2.248598</td>\n",
       "      <td>14.531977</td>\n",
       "      <td>34.491430</td>\n",
       "      <td>3.280840</td>\n",
       "      <td>8.700972</td>\n",
       "      <td>3.070128</td>\n",
       "      <td>166.463581</td>\n",
       "    </tr>\n",
       "    <tr>\n",
       "      <th>std</th>\n",
       "      <td>64.661449</td>\n",
       "      <td>90.605110</td>\n",
       "      <td>22.785846</td>\n",
       "      <td>24.474746</td>\n",
       "      <td>31.646011</td>\n",
       "      <td>25.684275</td>\n",
       "      <td>6.962884</td>\n",
       "      <td>18.133775</td>\n",
       "      <td>21.694928</td>\n",
       "      <td>15.811136</td>\n",
       "      <td>19.969164</td>\n",
       "      <td>6.323247</td>\n",
       "      <td>140.696585</td>\n",
       "    </tr>\n",
       "    <tr>\n",
       "      <th>min</th>\n",
       "      <td>0.040000</td>\n",
       "      <td>0.010000</td>\n",
       "      <td>0.020000</td>\n",
       "      <td>0.010000</td>\n",
       "      <td>0.000000</td>\n",
       "      <td>0.010000</td>\n",
       "      <td>0.000000</td>\n",
       "      <td>0.010000</td>\n",
       "      <td>0.010000</td>\n",
       "      <td>0.000000</td>\n",
       "      <td>0.000000</td>\n",
       "      <td>0.000000</td>\n",
       "      <td>13.000000</td>\n",
       "    </tr>\n",
       "    <tr>\n",
       "      <th>25%</th>\n",
       "      <td>28.820000</td>\n",
       "      <td>56.255000</td>\n",
       "      <td>5.630000</td>\n",
       "      <td>11.750000</td>\n",
       "      <td>12.820000</td>\n",
       "      <td>8.580000</td>\n",
       "      <td>0.510000</td>\n",
       "      <td>5.670000</td>\n",
       "      <td>18.860000</td>\n",
       "      <td>0.120000</td>\n",
       "      <td>0.600000</td>\n",
       "      <td>0.140000</td>\n",
       "      <td>81.000000</td>\n",
       "    </tr>\n",
       "    <tr>\n",
       "      <th>50%</th>\n",
       "      <td>48.570000</td>\n",
       "      <td>95.680000</td>\n",
       "      <td>9.890000</td>\n",
       "      <td>21.690000</td>\n",
       "      <td>23.520000</td>\n",
       "      <td>15.850000</td>\n",
       "      <td>0.890000</td>\n",
       "      <td>9.160000</td>\n",
       "      <td>30.840000</td>\n",
       "      <td>1.070000</td>\n",
       "      <td>2.970000</td>\n",
       "      <td>0.980000</td>\n",
       "      <td>118.000000</td>\n",
       "    </tr>\n",
       "    <tr>\n",
       "      <th>75%</th>\n",
       "      <td>80.590000</td>\n",
       "      <td>149.745000</td>\n",
       "      <td>19.950000</td>\n",
       "      <td>37.620000</td>\n",
       "      <td>40.127500</td>\n",
       "      <td>30.020000</td>\n",
       "      <td>1.450000</td>\n",
       "      <td>15.220000</td>\n",
       "      <td>45.570000</td>\n",
       "      <td>3.080000</td>\n",
       "      <td>9.150000</td>\n",
       "      <td>3.350000</td>\n",
       "      <td>208.000000</td>\n",
       "    </tr>\n",
       "    <tr>\n",
       "      <th>max</th>\n",
       "      <td>949.990000</td>\n",
       "      <td>1000.000000</td>\n",
       "      <td>390.680000</td>\n",
       "      <td>362.210000</td>\n",
       "      <td>467.630000</td>\n",
       "      <td>352.890000</td>\n",
       "      <td>175.810000</td>\n",
       "      <td>193.860000</td>\n",
       "      <td>257.730000</td>\n",
       "      <td>455.030000</td>\n",
       "      <td>454.850000</td>\n",
       "      <td>170.370000</td>\n",
       "      <td>2049.000000</td>\n",
       "    </tr>\n",
       "  </tbody>\n",
       "</table>\n",
       "</div>"
      ],
      "text/plain": [
       "              PM2.5          PM10            NO           NO2           NOx  \\\n",
       "count  24933.000000  18391.000000  25949.000000  25946.000000  25346.000000   \n",
       "mean      67.450578    118.127103     17.574730     28.560659     32.309123   \n",
       "std       64.661449     90.605110     22.785846     24.474746     31.646011   \n",
       "min        0.040000      0.010000      0.020000      0.010000      0.000000   \n",
       "25%       28.820000     56.255000      5.630000     11.750000     12.820000   \n",
       "50%       48.570000     95.680000      9.890000     21.690000     23.520000   \n",
       "75%       80.590000    149.745000     19.950000     37.620000     40.127500   \n",
       "max      949.990000   1000.000000    390.680000    362.210000    467.630000   \n",
       "\n",
       "                NH3            CO           SO2            O3       Benzene  \\\n",
       "count  19203.000000  27472.000000  25677.000000  25509.000000  23908.000000   \n",
       "mean      23.483476      2.248598     14.531977     34.491430      3.280840   \n",
       "std       25.684275      6.962884     18.133775     21.694928     15.811136   \n",
       "min        0.010000      0.000000      0.010000      0.010000      0.000000   \n",
       "25%        8.580000      0.510000      5.670000     18.860000      0.120000   \n",
       "50%       15.850000      0.890000      9.160000     30.840000      1.070000   \n",
       "75%       30.020000      1.450000     15.220000     45.570000      3.080000   \n",
       "max      352.890000    175.810000    193.860000    257.730000    455.030000   \n",
       "\n",
       "            Toluene        Xylene           AQI  \n",
       "count  21490.000000  11422.000000  24850.000000  \n",
       "mean       8.700972      3.070128    166.463581  \n",
       "std       19.969164      6.323247    140.696585  \n",
       "min        0.000000      0.000000     13.000000  \n",
       "25%        0.600000      0.140000     81.000000  \n",
       "50%        2.970000      0.980000    118.000000  \n",
       "75%        9.150000      3.350000    208.000000  \n",
       "max      454.850000    170.370000   2049.000000  "
      ]
     },
     "execution_count": 6,
     "metadata": {},
     "output_type": "execute_result"
    }
   ],
   "source": [
    "df.describe()"
   ]
  },
  {
   "cell_type": "code",
   "execution_count": null,
   "metadata": {},
   "outputs": [
    {
     "data": {
      "text/plain": [
       "0"
      ]
     },
     "execution_count": 7,
     "metadata": {},
     "output_type": "execute_result"
    }
   ],
   "source": [
    "df.duplicated().sum()"
   ]
  },
  {
   "cell_type": "code",
   "execution_count": null,
   "metadata": {},
   "outputs": [
    {
     "data": {
      "text/plain": [
       "City              0\n",
       "Date              0\n",
       "PM2.5          4598\n",
       "PM10          11140\n",
       "NO             3582\n",
       "NO2            3585\n",
       "NOx            4185\n",
       "NH3           10328\n",
       "CO             2059\n",
       "SO2            3854\n",
       "O3             4022\n",
       "Benzene        5623\n",
       "Toluene        8041\n",
       "Xylene        18109\n",
       "AQI            4681\n",
       "AQI_Bucket     4681\n",
       "dtype: int64"
      ]
     },
     "execution_count": 8,
     "metadata": {},
     "output_type": "execute_result"
    }
   ],
   "source": [
    "df.isnull().sum()"
   ]
  },
  {
   "cell_type": "code",
   "execution_count": null,
   "metadata": {},
   "outputs": [
    {
     "data": {
      "text/plain": [
       "City              0\n",
       "Date              0\n",
       "PM2.5           678\n",
       "PM10           7086\n",
       "NO              387\n",
       "NO2             391\n",
       "NOx            1857\n",
       "NH3            6536\n",
       "CO              445\n",
       "SO2             605\n",
       "O3              807\n",
       "Benzene        3535\n",
       "Toluene        5826\n",
       "Xylene        15372\n",
       "AQI               0\n",
       "AQI_Bucket        0\n",
       "dtype: int64"
      ]
     },
     "execution_count": 9,
     "metadata": {},
     "output_type": "execute_result"
    }
   ],
   "source": [
    "df = df[df['AQI_Bucket'].notnull()]\n",
    "df.isnull().sum()"
   ]
  },
  {
   "cell_type": "code",
   "execution_count": null,
   "metadata": {},
   "outputs": [
    {
     "data": {
      "text/plain": [
       "City           0.000000\n",
       "Date           0.000000\n",
       "PM2.5          2.728370\n",
       "PM10          28.515091\n",
       "NO             1.557344\n",
       "NO2            1.573441\n",
       "NOx            7.472837\n",
       "NH3           26.301811\n",
       "CO             1.790744\n",
       "SO2            2.434608\n",
       "O3             3.247485\n",
       "Benzene       14.225352\n",
       "Toluene       23.444668\n",
       "Xylene        61.859155\n",
       "AQI            0.000000\n",
       "AQI_Bucket     0.000000\n",
       "dtype: float64"
      ]
     },
     "execution_count": 10,
     "metadata": {},
     "output_type": "execute_result"
    }
   ],
   "source": [
    "df.isnull().sum() / len(df) * 100"
   ]
  },
  {
   "cell_type": "code",
   "execution_count": null,
   "metadata": {},
   "outputs": [
    {
     "data": {
      "text/plain": [
       "City\n",
       "Delhi                 1999\n",
       "Bengaluru             1910\n",
       "Lucknow               1893\n",
       "Chennai               1884\n",
       "Hyderabad             1880\n",
       "Patna                 1459\n",
       "Gurugram              1453\n",
       "Ahmedabad             1334\n",
       "Visakhapatnam         1171\n",
       "Amritsar              1126\n",
       "Jaipur                1094\n",
       "Thiruvananthapuram    1052\n",
       "Amaravati              841\n",
       "Mumbai                 775\n",
       "Jorapokhar             771\n",
       "Kolkata                754\n",
       "Brajrajnagar           713\n",
       "Talcher                698\n",
       "Guwahati               495\n",
       "Coimbatore             344\n",
       "Chandigarh             299\n",
       "Bhopal                 278\n",
       "Shillong               205\n",
       "Kochi                  158\n",
       "Ernakulam              153\n",
       "Aizawl                 111\n",
       "Name: count, dtype: int64"
      ]
     },
     "execution_count": 11,
     "metadata": {},
     "output_type": "execute_result"
    }
   ],
   "source": [
    "df[\"City\"].value_counts()"
   ]
  },
  {
   "cell_type": "code",
   "execution_count": null,
   "metadata": {},
   "outputs": [
    {
     "data": {
      "text/plain": [
       "AQI_Bucket\n",
       "Moderate        8829\n",
       "Satisfactory    8224\n",
       "Poor            2781\n",
       "Very Poor       2337\n",
       "Good            1341\n",
       "Severe          1338\n",
       "Name: count, dtype: int64"
      ]
     },
     "execution_count": 12,
     "metadata": {},
     "output_type": "execute_result"
    }
   ],
   "source": [
    "df[\"AQI_Bucket\"].value_counts()"
   ]
  },
  {
   "cell_type": "markdown",
   "metadata": {},
   "source": [
    "# # Data Preprocess"
   ]
  },
  {
   "cell_type": "code",
   "execution_count": null,
   "metadata": {},
   "outputs": [
    {
     "name": "stderr",
     "output_type": "stream",
     "text": [
      "C:\\Users\\0877\\AppData\\Local\\Temp\\ipykernel_11232\\29675270.py:10: SettingWithCopyWarning: \n",
      "A value is trying to be set on a copy of a slice from a DataFrame.\n",
      "Try using .loc[row_indexer,col_indexer] = value instead\n",
      "\n",
      "See the caveats in the documentation: https://pandas.pydata.org/pandas-docs/stable/user_guide/indexing.html#returning-a-view-versus-a-copy\n",
      "  df[\"AQI_Bucket\"] = df[\"AQI_Bucket\"].apply(simplify_aqi_bucket)\n"
     ]
    },
    {
     "data": {
      "text/plain": [
       "AQI_Bucket\n",
       "Moderate    17053\n",
       "Poor         6456\n",
       "Good         1341\n",
       "Name: count, dtype: int64"
      ]
     },
     "execution_count": 13,
     "metadata": {},
     "output_type": "execute_result"
    }
   ],
   "source": [
    "# Map AQI_Bucket to 3 classes\n",
    "def simplify_aqi_bucket(bucket):\n",
    "    if bucket == \"Good\":\n",
    "        return \"Good\"\n",
    "    elif bucket in [\"Satisfactory\", \"Moderate\"]:\n",
    "        return \"Moderate\"\n",
    "    else:  # Poor, Very Poor, Severe\n",
    "        return \"Poor\"\n",
    "\n",
    "df[\"AQI_Bucket\"] = df[\"AQI_Bucket\"].apply(simplify_aqi_bucket)\n",
    "\n",
    "# Drop AQI column to prevent leakage\n",
    "df = df.drop(\"AQI\", axis=1)\n",
    "\n",
    "# Convert City to numerical (e.g., one-hot encoding)\n",
    "df = pd.get_dummies(df, columns=[\"City\"], drop_first=True)\n",
    "\n",
    "# Check the updated target distribution\n",
    "df[\"AQI_Bucket\"].value_counts()"
   ]
  },
  {
   "cell_type": "code",
   "execution_count": null,
   "metadata": {},
   "outputs": [
    {
     "data": {
      "text/plain": [
       "PM2.5                       2.728370\n",
       "PM10                       28.515091\n",
       "NO                          1.557344\n",
       "NO2                         1.573441\n",
       "NOx                         7.472837\n",
       "NH3                        26.301811\n",
       "CO                          1.790744\n",
       "SO2                         2.434608\n",
       "O3                          3.247485\n",
       "Benzene                    14.225352\n",
       "Toluene                    23.444668\n",
       "AQI_Bucket                  0.000000\n",
       "City_Aizawl                 0.000000\n",
       "City_Amaravati              0.000000\n",
       "City_Amritsar               0.000000\n",
       "City_Bengaluru              0.000000\n",
       "City_Bhopal                 0.000000\n",
       "City_Brajrajnagar           0.000000\n",
       "City_Chandigarh             0.000000\n",
       "City_Chennai                0.000000\n",
       "City_Coimbatore             0.000000\n",
       "City_Delhi                  0.000000\n",
       "City_Ernakulam              0.000000\n",
       "City_Gurugram               0.000000\n",
       "City_Guwahati               0.000000\n",
       "City_Hyderabad              0.000000\n",
       "City_Jaipur                 0.000000\n",
       "City_Jorapokhar             0.000000\n",
       "City_Kochi                  0.000000\n",
       "City_Kolkata                0.000000\n",
       "City_Lucknow                0.000000\n",
       "City_Mumbai                 0.000000\n",
       "City_Patna                  0.000000\n",
       "City_Shillong               0.000000\n",
       "City_Talcher                0.000000\n",
       "City_Thiruvananthapuram     0.000000\n",
       "City_Visakhapatnam          0.000000\n",
       "dtype: float64"
      ]
     },
     "execution_count": 14,
     "metadata": {},
     "output_type": "execute_result"
    }
   ],
   "source": [
    "df.drop([\"Date\", \"Xylene\"], axis=1, inplace=True)\n",
    "df.isnull().sum() / len(df) * 100"
   ]
  },
  {
   "cell_type": "code",
   "execution_count": null,
   "metadata": {},
   "outputs": [
    {
     "data": {
      "text/plain": [
       "(24850, 37)"
      ]
     },
     "execution_count": 16,
     "metadata": {},
     "output_type": "execute_result"
    }
   ],
   "source": [
    "df.shape"
   ]
  },
  {
   "cell_type": "code",
   "execution_count": null,
   "metadata": {},
   "outputs": [
    {
     "data": {
      "text/plain": [
       "Index(['PM2.5', 'PM10', 'NO', 'NO2', 'NOx', 'NH3', 'CO', 'SO2', 'O3',\n",
       "       'Benzene', 'Toluene'],\n",
       "      dtype='object')"
      ]
     },
     "execution_count": 18,
     "metadata": {},
     "output_type": "execute_result"
    }
   ],
   "source": [
    "# Get all numerical columns in the DataFrame\n",
    "numeric_columns = df.select_dtypes(include=['number']).columns\n",
    "numeric_columns"
   ]
  },
  {
   "cell_type": "markdown",
   "metadata": {},
   "source": [
    "Handle missing values use of SimpleImputer"
   ]
  },
  {
   "cell_type": "code",
   "execution_count": null,
   "metadata": {},
   "outputs": [
    {
     "data": {
      "text/plain": [
       "PM2.5                      0.0\n",
       "PM10                       0.0\n",
       "NO                         0.0\n",
       "NO2                        0.0\n",
       "NOx                        0.0\n",
       "NH3                        0.0\n",
       "CO                         0.0\n",
       "SO2                        0.0\n",
       "O3                         0.0\n",
       "Benzene                    0.0\n",
       "Toluene                    0.0\n",
       "AQI_Bucket                 0.0\n",
       "City_Aizawl                0.0\n",
       "City_Amaravati             0.0\n",
       "City_Amritsar              0.0\n",
       "City_Bengaluru             0.0\n",
       "City_Bhopal                0.0\n",
       "City_Brajrajnagar          0.0\n",
       "City_Chandigarh            0.0\n",
       "City_Chennai               0.0\n",
       "City_Coimbatore            0.0\n",
       "City_Delhi                 0.0\n",
       "City_Ernakulam             0.0\n",
       "City_Gurugram              0.0\n",
       "City_Guwahati              0.0\n",
       "City_Hyderabad             0.0\n",
       "City_Jaipur                0.0\n",
       "City_Jorapokhar            0.0\n",
       "City_Kochi                 0.0\n",
       "City_Kolkata               0.0\n",
       "City_Lucknow               0.0\n",
       "City_Mumbai                0.0\n",
       "City_Patna                 0.0\n",
       "City_Shillong              0.0\n",
       "City_Talcher               0.0\n",
       "City_Thiruvananthapuram    0.0\n",
       "City_Visakhapatnam         0.0\n",
       "dtype: float64"
      ]
     },
     "execution_count": 19,
     "metadata": {},
     "output_type": "execute_result"
    }
   ],
   "source": [
    "# Use SimpleImputer to impute numerical columns with the mean or median\n",
    "from sklearn.impute import SimpleImputer\n",
    "imputer = SimpleImputer(strategy='median')\n",
    "df[numeric_columns] = imputer.fit_transform(df[numeric_columns])\n",
    "df.isnull().sum() / len(df) * 100"
   ]
  },
  {
   "cell_type": "code",
   "execution_count": null,
   "metadata": {},
   "outputs": [
    {
     "data": {
      "text/plain": [
       "AQI_Bucket\n",
       "Moderate    17053\n",
       "Poor         6456\n",
       "Good         1341\n",
       "Name: count, dtype: int64"
      ]
     },
     "execution_count": 20,
     "metadata": {},
     "output_type": "execute_result"
    }
   ],
   "source": [
    "df[\"AQI_Bucket\"].value_counts()"
   ]
  },
  {
   "cell_type": "code",
   "execution_count": null,
   "metadata": {},
   "outputs": [
    {
     "name": "stdout",
     "output_type": "stream",
     "text": [
      "Mapping for column 'AQI_Bucket':\n",
      "Label 0: Good\n",
      "Label 1: Moderate\n",
      "Label 2: Poor\n",
      "====================================================\n",
      "====================================================\n"
     ]
    }
   ],
   "source": [
    "#label encoding the data.\n",
    "from sklearn.preprocessing import LabelEncoder\n",
    "\n",
    "# Get object column names\n",
    "original_columns = df.select_dtypes(include=['object']).columns\n",
    "\n",
    "# Initialize LabelEncoder\n",
    "label_encoders = {}\n",
    "\n",
    "# Apply LabelEncoder to each categorical variable\n",
    "for col in original_columns:\n",
    "    label_encoders[col] = LabelEncoder()\n",
    "    df[col] = label_encoders[col].fit_transform(df[col])\n",
    "\n",
    "# Print the mapping between original categories and numerical labels\n",
    "for col, encoder in label_encoders.items():\n",
    "    print(f\"Mapping for column '{col}':\")\n",
    "    for label, category in enumerate(encoder.classes_):\n",
    "        print(f\"Label {label}: {category}\")\n",
    "    print(\"====================================================\")\n",
    "    print(\"====================================================\")"
   ]
  },
  {
   "cell_type": "code",
   "execution_count": null,
   "metadata": {},
   "outputs": [],
   "source": [
    "from sklearn.model_selection import train_test_split\n",
    "\n",
    "# Separate features (X) and target (y)\n",
    "X = df.drop(\"AQI_Bucket\", axis=1)\n",
    "y = df[\"AQI_Bucket\"]"
   ]
  },
  {
   "cell_type": "markdown",
   "metadata": {},
   "source": [
    "Oversample & Undersample methods to balance the data"
   ]
  },
  {
   "cell_type": "code",
   "execution_count": null,
   "metadata": {},
   "outputs": [
    {
     "name": "stdout",
     "output_type": "stream",
     "text": [
      "Original data distribution: Counter({1: 17053, 2: 6456, 0: 1341})\n",
      "Resampled data distribution: Counter({0: 6456, 1: 6456, 2: 6456})\n"
     ]
    }
   ],
   "source": [
    "from imblearn.pipeline import Pipeline\n",
    "from imblearn.over_sampling import SVMSMOTE\n",
    "from imblearn.under_sampling import RandomUnderSampler\n",
    "from collections import Counter\n",
    "\n",
    "# Define sampling strategies as dictionaries\n",
    "# Oversample minorities (Good, Poor) to 50% of Moderate, then undersample Moderate\n",
    "oversample_strategy = {0: 8526, 2: 8526}  # Good (0) and Poor (2) to ~half of Moderate (17053 / 2)\n",
    "undersample_strategy = {0: 6456, 1: 6456, 2: 6456}  # Final balanced counts\n",
    "\n",
    "pipeline = Pipeline([\n",
    "    ('oversample', SVMSMOTE(sampling_strategy=oversample_strategy, k_neighbors=5, random_state=42)),\n",
    "    ('undersample', RandomUnderSampler(sampling_strategy=undersample_strategy, random_state=42))\n",
    "])\n",
    "\n",
    "# Apply the pipeline\n",
    "X_resampled, y_resampled = pipeline.fit_resample(X, y)\n",
    "\n",
    "# Check the balance\n",
    "print(f\"Original data distribution: {Counter(y)}\")\n",
    "print(f\"Resampled data distribution: {Counter(y_resampled)}\")"
   ]
  },
  {
   "cell_type": "markdown",
   "metadata": {},
   "source": [
    "# Data splitting"
   ]
  },
  {
   "cell_type": "code",
   "execution_count": null,
   "metadata": {},
   "outputs": [],
   "source": [
    "### Splitting the data into training and testing\n",
    "from sklearn.model_selection import train_test_split\n",
    "X_train, X_test, y_train, y_test = train_test_split(X_resampled, y_resampled, test_size = 0.3, stratify = y_resampled, random_state = 42)"
   ]
  },
  {
   "cell_type": "markdown",
   "metadata": {},
   "source": [
    "# # Algorithm Implemendation"
   ]
  },
  {
   "cell_type": "code",
   "execution_count": null,
   "metadata": {},
   "outputs": [
    {
     "name": "stdout",
     "output_type": "stream",
     "text": [
      "Logistoic Regression Classifier Accuracy: 0.8575116159008777\n",
      "              precision    recall  f1-score   support\n",
      "\n",
      "           0       0.85      0.92      0.89      1937\n",
      "           1       0.83      0.73      0.78      1937\n",
      "           2       0.88      0.93      0.90      1937\n",
      "\n",
      "    accuracy                           0.86      5811\n",
      "   macro avg       0.86      0.86      0.86      5811\n",
      "weighted avg       0.86      0.86      0.86      5811\n",
      "\n",
      "Logistoic Regression Classifier Confusion Matrix:\n",
      " [[1778  154    5]\n",
      " [ 297 1411  229]\n",
      " [   5  138 1794]]\n"
     ]
    },
    {
     "name": "stderr",
     "output_type": "stream",
     "text": [
      "c:\\Users\\0877\\.conda\\envs\\tk174464\\lib\\site-packages\\sklearn\\linear_model\\_logistic.py:458: ConvergenceWarning: lbfgs failed to converge (status=1):\n",
      "STOP: TOTAL NO. of ITERATIONS REACHED LIMIT.\n",
      "\n",
      "Increase the number of iterations (max_iter) or scale the data as shown in:\n",
      "    https://scikit-learn.org/stable/modules/preprocessing.html\n",
      "Please also refer to the documentation for alternative solver options:\n",
      "    https://scikit-learn.org/stable/modules/linear_model.html#logistic-regression\n",
      "  n_iter_i = _check_optimize_result(\n"
     ]
    },
    {
     "data": {
      "text/plain": [
       "['models\\\\lr_model.joblib']"
      ]
     },
     "execution_count": 25,
     "metadata": {},
     "output_type": "execute_result"
    }
   ],
   "source": [
    "# Initialize Logistoic Regression Classifier\n",
    "from sklearn.linear_model import LogisticRegression\n",
    "\n",
    "lr_model = LogisticRegression()\n",
    "\n",
    "# model training\n",
    "lr_model.fit(X_train, y_train)\n",
    "\n",
    "# model testing\n",
    "lr_predictions = lr_model.predict(X_test)\n",
    "\n",
    "# model evaluation\n",
    "\n",
    "# Accuracy score\n",
    "lr_accuracy = accuracy_score(y_test, lr_predictions)\n",
    "print(\"Logistoic Regression Classifier Accuracy:\", lr_accuracy)\n",
    "\n",
    "# Classification Report\n",
    "lr_cls_rpt = classification_report(y_test, lr_predictions)\n",
    "print(lr_cls_rpt)\n",
    "\n",
    "# Confusion Matrix\n",
    "lr_cm = confusion_matrix(y_test, lr_predictions)\n",
    "print(\"Logistic Regression Classifier Confusion Matrix:\\n\", lr_cm)\n",
    "\n",
    "# Save trained model\n",
    "joblib.dump(lr_model, r'models\\lr_model.joblib')"
   ]
  },
  {
   "cell_type": "code",
   "execution_count": null,
   "metadata": {},
   "outputs": [
    {
     "name": "stdout",
     "output_type": "stream",
     "text": [
      "AdaBoost Classifier Accuracy: 0.8482188951987609\n",
      "              precision    recall  f1-score   support\n",
      "\n",
      "           0       0.88      0.89      0.88      1937\n",
      "           1       0.81      0.72      0.76      1937\n",
      "           2       0.86      0.93      0.89      1937\n",
      "\n",
      "    accuracy                           0.85      5811\n",
      "   macro avg       0.85      0.85      0.85      5811\n",
      "weighted avg       0.85      0.85      0.85      5811\n",
      "\n",
      "AdaBoost Classifier Confusion Matrix:\n",
      " [[1718  215    4]\n",
      " [ 236 1400  301]\n",
      " [   7  119 1811]]\n"
     ]
    },
    {
     "data": {
      "text/plain": [
       "['models\\\\adaboost_model.joblib']"
      ]
     },
     "execution_count": 26,
     "metadata": {},
     "output_type": "execute_result"
    }
   ],
   "source": [
    "# Initialize AdaBoost Classifier\n",
    "from sklearn.ensemble import AdaBoostClassifier\n",
    "\n",
    "adaboost_model = AdaBoostClassifier()\n",
    "\n",
    "# model training\n",
    "adaboost_model.fit(X_train, y_train)\n",
    "\n",
    "# model testing\n",
    "adaboost_predictions = adaboost_model.predict(X_test)\n",
    "\n",
    "# model evaluation\n",
    "\n",
    "# Accuracy score\n",
    "adaboost_accuracy = accuracy_score(y_test, adaboost_predictions)\n",
    "print(\"AdaBoost Classifier Accuracy:\", adaboost_accuracy)\n",
    "\n",
    "# Classification Report\n",
    "adaboost_cls_rpt = classification_report(y_test, adaboost_predictions)\n",
    "print(adaboost_cls_rpt)\n",
    "\n",
    "# Confusion Matrix\n",
    "adaboost_cm = confusion_matrix(y_test, adaboost_predictions)\n",
    "print(\"AdaBoost Classifier Confusion Matrix:\\n\", adaboost_cm)\n",
    "\n",
    "# Save trained model\n",
    "joblib.dump(adaboost_model, r'models\\adaboost_model.joblib')"
   ]
  },
  {
   "cell_type": "code",
   "execution_count": null,
   "metadata": {},
   "outputs": [
    {
     "name": "stdout",
     "output_type": "stream",
     "text": [
      "MLP Classifier Accuracy: 0.9041473068318706\n",
      "              precision    recall  f1-score   support\n",
      "\n",
      "           0       0.94      0.95      0.95      1937\n",
      "           1       0.92      0.78      0.85      1937\n",
      "           2       0.86      0.97      0.91      1937\n",
      "\n",
      "    accuracy                           0.90      5811\n",
      "   macro avg       0.91      0.90      0.90      5811\n",
      "weighted avg       0.91      0.90      0.90      5811\n",
      "\n",
      "MLP Classifier Confusion Matrix:\n",
      " [[1847   89    1]\n",
      " [ 109 1520  308]\n",
      " [   2   48 1887]]\n"
     ]
    },
    {
     "data": {
      "text/plain": [
       "['models\\\\mlp_model.joblib']"
      ]
     },
     "execution_count": 27,
     "metadata": {},
     "output_type": "execute_result"
    }
   ],
   "source": [
    "# Initialize MLP Classifier\n",
    "from sklearn.neural_network import MLPClassifier\n",
    "\n",
    "mlp_model = MLPClassifier()\n",
    "\n",
    "# model training\n",
    "mlp_model.fit(X_train, y_train)\n",
    "\n",
    "# model testing\n",
    "mlp_predictions = mlp_model.predict(X_test)\n",
    "\n",
    "# model evaluation\n",
    "\n",
    "# Accuracy score\n",
    "mlp_accuracy = accuracy_score(y_test, mlp_predictions)\n",
    "print(\"MLP Classifier Accuracy:\", mlp_accuracy)\n",
    "\n",
    "# Classification Report\n",
    "mlp_cls_rpt = classification_report(y_test, mlp_predictions)\n",
    "print(mlp_cls_rpt)\n",
    "\n",
    "# Confusion Matrix\n",
    "mlp_cm = confusion_matrix(y_test, mlp_predictions)\n",
    "print(\"MLP Classifier Confusion Matrix:\\n\", mlp_cm)\n",
    "\n",
    "# Save trained model\n",
    "joblib.dump(mlp_model, r'models\\mlp_model.joblib')"
   ]
  },
  {
   "cell_type": "code",
   "execution_count": null,
   "metadata": {},
   "outputs": [
    {
     "name": "stdout",
     "output_type": "stream",
     "text": [
      "Random Forest Classifier Accuracy: 0.9402856651178799\n",
      "              precision    recall  f1-score   support\n",
      "\n",
      "           0       0.95      0.98      0.97      1937\n",
      "           1       0.94      0.88      0.91      1937\n",
      "           2       0.93      0.96      0.95      1937\n",
      "\n",
      "    accuracy                           0.94      5811\n",
      "   macro avg       0.94      0.94      0.94      5811\n",
      "weighted avg       0.94      0.94      0.94      5811\n",
      "\n",
      "Random Forest Classifier Confusion Matrix:\n",
      " [[1900   37    0]\n",
      " [  95 1706  136]\n",
      " [   3   76 1858]]\n"
     ]
    },
    {
     "data": {
      "text/plain": [
       "['models\\\\rf_model.joblib']"
      ]
     },
     "execution_count": 28,
     "metadata": {},
     "output_type": "execute_result"
    }
   ],
   "source": [
    "# Initialize Random Forest Classifier\n",
    "from sklearn.ensemble import RandomForestClassifier\n",
    "\n",
    "rf_model = RandomForestClassifier()\n",
    "\n",
    "# model training\n",
    "rf_model.fit(X_train, y_train)\n",
    "\n",
    "# model testing\n",
    "rf_predictions = rf_model.predict(X_test)\n",
    "\n",
    "# model evaluation\n",
    "\n",
    "# Accuracy score\n",
    "rf_accuracy = accuracy_score(y_test, rf_predictions)\n",
    "print(\"Random Forest Classifier Accuracy:\", rf_accuracy)\n",
    "\n",
    "# Classification Report\n",
    "rf_cls_rpt = classification_report(y_test, rf_predictions)\n",
    "print(rf_cls_rpt)\n",
    "\n",
    "# Confusion Matrix\n",
    "rf_cm = confusion_matrix(y_test, rf_predictions)\n",
    "print(\"Random Forest Classifier Confusion Matrix:\\n\", rf_cm)\n",
    "\n",
    "# Save trained model\n",
    "joblib.dump(rf_model, r'models\\rf_model.joblib')"
   ]
  },
  {
   "cell_type": "code",
   "execution_count": null,
   "metadata": {},
   "outputs": [
    {
     "name": "stdout",
     "output_type": "stream",
     "text": [
      "Decision Tree Classifier Accuracy: 0.9086215797625193\n",
      "              precision    recall  f1-score   support\n",
      "\n",
      "           0       0.93      0.95      0.94      1937\n",
      "           1       0.88      0.85      0.86      1937\n",
      "           2       0.91      0.93      0.92      1937\n",
      "\n",
      "    accuracy                           0.91      5811\n",
      "   macro avg       0.91      0.91      0.91      5811\n",
      "weighted avg       0.91      0.91      0.91      5811\n",
      "\n",
      "Decision Tree Classifier Confusion Matrix:\n",
      " [[1846   90    1]\n",
      " [ 126 1638  173]\n",
      " [   8  133 1796]]\n"
     ]
    },
    {
     "data": {
      "text/plain": [
       "['models\\\\dt_model.joblib']"
      ]
     },
     "execution_count": 29,
     "metadata": {},
     "output_type": "execute_result"
    }
   ],
   "source": [
    "# Initialize Decision Tree Classifier\n",
    "from sklearn.tree import DecisionTreeClassifier\n",
    "\n",
    "dt_model = DecisionTreeClassifier()\n",
    "\n",
    "# model training\n",
    "dt_model.fit(X_train, y_train)\n",
    "\n",
    "# model testing\n",
    "dt_predictions = dt_model.predict(X_test)\n",
    "\n",
    "# model evaluation\n",
    "\n",
    "# Accuracy score\n",
    "dt_accuracy = accuracy_score(y_test, dt_predictions)\n",
    "print(\"Decision Tree Classifier Accuracy:\", dt_accuracy)\n",
    "\n",
    "# Classification Report\n",
    "dt_cls_rpt = classification_report(y_test, dt_predictions)\n",
    "print(dt_cls_rpt)\n",
    "\n",
    "# Confusion Matrix\n",
    "dt_cm = confusion_matrix(y_test, dt_predictions)\n",
    "print(\"Decision Tree Classifier Confusion Matrix:\\n\", dt_cm)\n",
    "\n",
    "# Save trained model\n",
    "joblib.dump(dt_model, r'models\\dt_model.joblib')"
   ]
  },
  {
   "cell_type": "code",
   "execution_count": null,
   "metadata": {},
   "outputs": [
    {
     "name": "stdout",
     "output_type": "stream",
     "text": [
      "XGB Classifier Accuracy: 0.9425228015832042\n",
      "              precision    recall  f1-score   support\n",
      "\n",
      "           0       0.95      0.98      0.97      1937\n",
      "           1       0.94      0.89      0.91      1937\n",
      "           2       0.93      0.96      0.95      1937\n",
      "\n",
      "    accuracy                           0.94      5811\n",
      "   macro avg       0.94      0.94      0.94      5811\n",
      "weighted avg       0.94      0.94      0.94      5811\n",
      "\n",
      "XGB Classifier Confusion Matrix:\n",
      " [[1907   30    0]\n",
      " [  89 1715  133]\n",
      " [   4   78 1855]]\n"
     ]
    },
    {
     "data": {
      "text/plain": [
       "['models\\\\xgb_model.joblib']"
      ]
     },
     "execution_count": 30,
     "metadata": {},
     "output_type": "execute_result"
    }
   ],
   "source": [
    "# Initialize XGB Classifier\n",
    "from xgboost import XGBClassifier\n",
    "\n",
    "xgb_model = XGBClassifier()\n",
    "\n",
    "# model training\n",
    "xgb_model.fit(X_train, y_train)\n",
    "\n",
    "# model testing\n",
    "xgb_predictions = xgb_model.predict(X_test)\n",
    "\n",
    "# model evaluation\n",
    "\n",
    "# Accuracy score\n",
    "xgb_accuracy = accuracy_score(y_test, xgb_predictions)\n",
    "print(\"XGB Classifier Accuracy:\", xgb_accuracy)\n",
    "\n",
    "# Classification Report\n",
    "xgb_cls_rpt = classification_report(y_test, xgb_predictions)\n",
    "print(xgb_cls_rpt)\n",
    "\n",
    "# Confusion Matrix\n",
    "xgb_cm = confusion_matrix(y_test, xgb_predictions)\n",
    "print(\"XGB Classifier Confusion Matrix:\\n\", xgb_cm)\n",
    "\n",
    "# Save trained model\n",
    "joblib.dump(xgb_model, r'models\\xgb_model.joblib')"
   ]
  },
  {
   "cell_type": "markdown",
   "metadata": {},
   "source": [
    "# # Model comparision"
   ]
  },
  {
   "cell_type": "code",
   "execution_count": null,
   "metadata": {},
   "outputs": [
    {
     "data": {
      "image/png": "[encoded data removed]",
      "text/plain": [
       "<Figure size 1500x800 with 1 Axes>"
      ]
     },
     "metadata": {},
     "output_type": "display_data"
    }
   ],
   "source": [
    "import matplotlib.pyplot as plt\n",
    "\n",
    "# Model names and their accuracies from the output\n",
    "models = [\n",
    "    'Logistic regression', 'adaboost classifier', 'MLP classifier', \n",
    "    'Random forest classifier', 'Decision tree classifier', 'XGBoost classifier'\n",
    "]\n",
    "\n",
    "accuracies = [\n",
    "    lr_accuracy, adaboost_accuracy, mlp_accuracy, rf_accuracy, dt_accuracy, xgb_accuracy\n",
    "]\n",
    "\n",
    "# Create figure and axis\n",
    "plt.figure(figsize=(15, 8))\n",
    "ax = plt.subplot()\n",
    "\n",
    "# Create bars\n",
    "bars = ax.bar(models, accuracies, color=['#4C72B0' if acc < max(accuracies) else '#55A868' for acc in accuracies])\n",
    "\n",
    "# Customize plot\n",
    "plt.title('Model Comparison - Accuracy Scores', fontsize=16, pad=20)\n",
    "plt.xlabel('Models', fontsize=12)\n",
    "plt.ylabel('Accuracy', fontsize=12)\n",
    "plt.ylim(0, 1.0)\n",
    "plt.xticks(rotation=45, ha='right', fontsize=10)\n",
    "plt.grid(axis='y', alpha=0.3)\n",
    "\n",
    "# Add values on top of bars\n",
    "for bar in bars:\n",
    "    height = bar.get_height()\n",
    "    ax.text(bar.get_x() + bar.get_width()/2., height,\n",
    "            f'{height:.4f}',\n",
    "            ha='center', va='bottom',\n",
    "            fontsize=9)\n",
    "\n",
    "# Highlight the best performing model\n",
    "max_acc = max(accuracies)\n",
    "max_index = accuracies.index(max_acc)\n",
    "bars[max_index].set_edgecolor('red')\n",
    "bars[max_index].set_linewidth(2)\n",
    "\n",
    "plt.tight_layout()\n",
    "plt.show()"
   ]
  },
  {
   "cell_type": "markdown",
   "metadata": {},
   "source": [
    "# # Model saving"
   ]
  },
  {
   "cell_type": "code",
   "execution_count": null,
   "metadata": {},
   "outputs": [
    {
     "data": {
      "text/plain": [
       "['models\\\\imputation_medians.joblib']"
      ]
     },
     "execution_count": 32,
     "metadata": {},
     "output_type": "execute_result"
    }
   ],
   "source": [
    "# Save label encoder mapping\n",
    "joblib.dump(label_encoders['AQI_Bucket'], r'models\\label_encoder.joblib')\n",
    "\n",
    "# Save feature names\n",
    "joblib.dump(list(X_train.columns), r'models\\feature_columns.joblib')\n",
    "\n",
    "# Save imputation medians\n",
    "joblib.dump(imputer.statistics_, r'models\\imputation_medians.joblib')"
   ]
  },
  {
   "cell_type": "code",
   "execution_count": null,
   "metadata": {},
   "outputs": [],
   "source": [
    "# Convert resampled data to DataFrame\n",
    "resampled_df = pd.DataFrame(X_resampled, columns=X.columns.tolist())\n",
    "\n",
    "# 1. Extract city names from one-hot encoded columns\n",
    "city_columns = [col for col in resampled_df.columns if col.startswith('City_')]\n",
    "resampled_df['City'] = resampled_df[city_columns].idxmax(axis=1).str.replace('City_', '')\n",
    "\n",
    "# 2. Drop one-hot encoded city columns\n",
    "resampled_df = resampled_df.drop(columns=city_columns)\n",
    "\n",
    "# 3. Decode target labels\n",
    "resampled_df['AQI_Bucket'] = label_encoders['AQI_Bucket'].inverse_transform(y_resampled)\n",
    "\n",
    "# 4. Reorder columns to match original format\n",
    "column_order = ['City'] + [col for col in resampled_df.columns if col not in ['City', 'AQI_Bucket']] + ['AQI_Bucket']\n",
    "resampled_df = resampled_df[column_order]\n",
    "\n",
    "# 5. Save to CSV\n",
    "resampled_df.to_csv(r'dataset\\Final_data.csv', index=False)"
   ]
  },
  {
   "cell_type": "code",
   "execution_count": null,
   "metadata": {},
   "outputs": [
    {
     "data": {
      "text/html": [
       "<div>\n",
       "<style scoped>\n",
       "    .dataframe tbody tr th:only-of-type {\n",
       "        vertical-align: middle;\n",
       "    }\n",
       "\n",
       "    .dataframe tbody tr th {\n",
       "        vertical-align: top;\n",
       "    }\n",
       "\n",
       "    .dataframe thead th {\n",
       "        text-align: right;\n",
       "    }\n",
       "</style>\n",
       "<table border=\"1\" class=\"dataframe\">\n",
       "  <thead>\n",
       "    <tr style=\"text-align: right;\">\n",
       "      <th></th>\n",
       "      <th>City</th>\n",
       "      <th>PM2.5</th>\n",
       "      <th>PM10</th>\n",
       "      <th>NO</th>\n",
       "      <th>NO2</th>\n",
       "      <th>NOx</th>\n",
       "      <th>NH3</th>\n",
       "      <th>CO</th>\n",
       "      <th>SO2</th>\n",
       "      <th>O3</th>\n",
       "      <th>Benzene</th>\n",
       "      <th>Toluene</th>\n",
       "      <th>AQI_Bucket</th>\n",
       "    </tr>\n",
       "  </thead>\n",
       "  <tbody>\n",
       "    <tr>\n",
       "      <th>31016</th>\n",
       "      <td>Shillong</td>\n",
       "      <td>11.647268</td>\n",
       "      <td>16.592840</td>\n",
       "      <td>0.972397</td>\n",
       "      <td>2.777022</td>\n",
       "      <td>1.109221</td>\n",
       "      <td>2.828610</td>\n",
       "      <td>0.189527</td>\n",
       "      <td>7.880148</td>\n",
       "      <td>18.548107</td>\n",
       "      <td>-0.018274</td>\n",
       "      <td>0.150473</td>\n",
       "      <td>Good</td>\n",
       "    </tr>\n",
       "    <tr>\n",
       "      <th>26466</th>\n",
       "      <td>Amritsar</td>\n",
       "      <td>48.785000</td>\n",
       "      <td>41.601496</td>\n",
       "      <td>17.713035</td>\n",
       "      <td>14.119500</td>\n",
       "      <td>30.622313</td>\n",
       "      <td>9.733486</td>\n",
       "      <td>0.000000</td>\n",
       "      <td>2.825710</td>\n",
       "      <td>22.270836</td>\n",
       "      <td>5.248010</td>\n",
       "      <td>7.378327</td>\n",
       "      <td>Good</td>\n",
       "    </tr>\n",
       "    <tr>\n",
       "      <th>31928</th>\n",
       "      <td>Kolkata</td>\n",
       "      <td>12.408150</td>\n",
       "      <td>31.246709</td>\n",
       "      <td>3.308086</td>\n",
       "      <td>5.358086</td>\n",
       "      <td>8.726172</td>\n",
       "      <td>6.900215</td>\n",
       "      <td>0.270000</td>\n",
       "      <td>5.630537</td>\n",
       "      <td>23.718173</td>\n",
       "      <td>1.075957</td>\n",
       "      <td>5.341914</td>\n",
       "      <td>Good</td>\n",
       "    </tr>\n",
       "    <tr>\n",
       "      <th>21830</th>\n",
       "      <td>Shillong</td>\n",
       "      <td>21.180000</td>\n",
       "      <td>26.770000</td>\n",
       "      <td>0.860000</td>\n",
       "      <td>2.720000</td>\n",
       "      <td>1.170000</td>\n",
       "      <td>2.780000</td>\n",
       "      <td>0.230000</td>\n",
       "      <td>3.300000</td>\n",
       "      <td>33.190000</td>\n",
       "      <td>132.800000</td>\n",
       "      <td>132.800000</td>\n",
       "      <td>Good</td>\n",
       "    </tr>\n",
       "    <tr>\n",
       "      <th>14817</th>\n",
       "      <td>Hyderabad</td>\n",
       "      <td>20.240000</td>\n",
       "      <td>44.740000</td>\n",
       "      <td>3.960000</td>\n",
       "      <td>27.590000</td>\n",
       "      <td>17.090000</td>\n",
       "      <td>13.090000</td>\n",
       "      <td>0.380000</td>\n",
       "      <td>6.290000</td>\n",
       "      <td>19.980000</td>\n",
       "      <td>1.310000</td>\n",
       "      <td>10.830000</td>\n",
       "      <td>Good</td>\n",
       "    </tr>\n",
       "    <tr>\n",
       "      <th>...</th>\n",
       "      <td>...</td>\n",
       "      <td>...</td>\n",
       "      <td>...</td>\n",
       "      <td>...</td>\n",
       "      <td>...</td>\n",
       "      <td>...</td>\n",
       "      <td>...</td>\n",
       "      <td>...</td>\n",
       "      <td>...</td>\n",
       "      <td>...</td>\n",
       "      <td>...</td>\n",
       "      <td>...</td>\n",
       "      <td>...</td>\n",
       "    </tr>\n",
       "    <tr>\n",
       "      <th>8912</th>\n",
       "      <td>Delhi</td>\n",
       "      <td>67.940000</td>\n",
       "      <td>105.290000</td>\n",
       "      <td>14.300000</td>\n",
       "      <td>29.780000</td>\n",
       "      <td>32.100000</td>\n",
       "      <td>29.210000</td>\n",
       "      <td>9.180000</td>\n",
       "      <td>10.140000</td>\n",
       "      <td>23.390000</td>\n",
       "      <td>2.420000</td>\n",
       "      <td>9.140000</td>\n",
       "      <td>Poor</td>\n",
       "    </tr>\n",
       "    <tr>\n",
       "      <th>33623</th>\n",
       "      <td>Lucknow</td>\n",
       "      <td>99.922656</td>\n",
       "      <td>96.180000</td>\n",
       "      <td>12.145989</td>\n",
       "      <td>40.194689</td>\n",
       "      <td>30.758362</td>\n",
       "      <td>21.398757</td>\n",
       "      <td>1.445876</td>\n",
       "      <td>8.181864</td>\n",
       "      <td>26.659435</td>\n",
       "      <td>1.306441</td>\n",
       "      <td>4.570847</td>\n",
       "      <td>Poor</td>\n",
       "    </tr>\n",
       "    <tr>\n",
       "      <th>10267</th>\n",
       "      <td>Delhi</td>\n",
       "      <td>202.830000</td>\n",
       "      <td>358.720000</td>\n",
       "      <td>85.160000</td>\n",
       "      <td>59.060000</td>\n",
       "      <td>107.050000</td>\n",
       "      <td>49.420000</td>\n",
       "      <td>2.200000</td>\n",
       "      <td>15.470000</td>\n",
       "      <td>37.600000</td>\n",
       "      <td>7.600000</td>\n",
       "      <td>57.490000</td>\n",
       "      <td>Poor</td>\n",
       "    </tr>\n",
       "    <tr>\n",
       "      <th>33696</th>\n",
       "      <td>Aizawl</td>\n",
       "      <td>78.071436</td>\n",
       "      <td>96.180000</td>\n",
       "      <td>10.180555</td>\n",
       "      <td>29.010055</td>\n",
       "      <td>35.950881</td>\n",
       "      <td>16.310000</td>\n",
       "      <td>10.180555</td>\n",
       "      <td>48.270379</td>\n",
       "      <td>44.625282</td>\n",
       "      <td>-4.739295</td>\n",
       "      <td>-4.705094</td>\n",
       "      <td>Poor</td>\n",
       "    </tr>\n",
       "    <tr>\n",
       "      <th>943</th>\n",
       "      <td>Aizawl</td>\n",
       "      <td>63.150000</td>\n",
       "      <td>177.870000</td>\n",
       "      <td>28.030000</td>\n",
       "      <td>100.080000</td>\n",
       "      <td>80.780000</td>\n",
       "      <td>16.310000</td>\n",
       "      <td>28.030000</td>\n",
       "      <td>122.430000</td>\n",
       "      <td>50.320000</td>\n",
       "      <td>17.050000</td>\n",
       "      <td>84.590000</td>\n",
       "      <td>Poor</td>\n",
       "    </tr>\n",
       "  </tbody>\n",
       "</table>\n",
       "<p>19368 rows × 13 columns</p>\n",
       "</div>"
      ],
      "text/plain": [
       "            City       PM2.5        PM10         NO         NO2         NOx  \\\n",
       "31016   Shillong   11.647268   16.592840   0.972397    2.777022    1.109221   \n",
       "26466   Amritsar   48.785000   41.601496  17.713035   14.119500   30.622313   \n",
       "31928    Kolkata   12.408150   31.246709   3.308086    5.358086    8.726172   \n",
       "21830   Shillong   21.180000   26.770000   0.860000    2.720000    1.170000   \n",
       "14817  Hyderabad   20.240000   44.740000   3.960000   27.590000   17.090000   \n",
       "...          ...         ...         ...        ...         ...         ...   \n",
       "8912       Delhi   67.940000  105.290000  14.300000   29.780000   32.100000   \n",
       "33623    Lucknow   99.922656   96.180000  12.145989   40.194689   30.758362   \n",
       "10267      Delhi  202.830000  358.720000  85.160000   59.060000  107.050000   \n",
       "33696     Aizawl   78.071436   96.180000  10.180555   29.010055   35.950881   \n",
       "943       Aizawl   63.150000  177.870000  28.030000  100.080000   80.780000   \n",
       "\n",
       "             NH3         CO         SO2         O3     Benzene     Toluene  \\\n",
       "31016   2.828610   0.189527    7.880148  18.548107   -0.018274    0.150473   \n",
       "26466   9.733486   0.000000    2.825710  22.270836    5.248010    7.378327   \n",
       "31928   6.900215   0.270000    5.630537  23.718173    1.075957    5.341914   \n",
       "21830   2.780000   0.230000    3.300000  33.190000  132.800000  132.800000   \n",
       "14817  13.090000   0.380000    6.290000  19.980000    1.310000   10.830000   \n",
       "...          ...        ...         ...        ...         ...         ...   \n",
       "8912   29.210000   9.180000   10.140000  23.390000    2.420000    9.140000   \n",
       "33623  21.398757   1.445876    8.181864  26.659435    1.306441    4.570847   \n",
       "10267  49.420000   2.200000   15.470000  37.600000    7.600000   57.490000   \n",
       "33696  16.310000  10.180555   48.270379  44.625282   -4.739295   -4.705094   \n",
       "943    16.310000  28.030000  122.430000  50.320000   17.050000   84.590000   \n",
       "\n",
       "      AQI_Bucket  \n",
       "31016       Good  \n",
       "26466       Good  \n",
       "31928       Good  \n",
       "21830       Good  \n",
       "14817       Good  \n",
       "...          ...  \n",
       "8912        Poor  \n",
       "33623       Poor  \n",
       "10267       Poor  \n",
       "33696       Poor  \n",
       "943         Poor  \n",
       "\n",
       "[19368 rows x 13 columns]"
      ]
     },
     "execution_count": 34,
     "metadata": {},
     "output_type": "execute_result"
    }
   ],
   "source": [
    "resampled_df"
   ]
  },
  {
   "cell_type": "markdown",
   "metadata": {},
   "source": [
    "# # Model Prediction"
   ]
  },
  {
   "cell_type": "code",
   "execution_count": null,
   "metadata": {},
   "outputs": [],
   "source": [
    "import joblib\n",
    "import pandas as pd\n",
    "import numpy as np\n",
    "\n",
    "class AQIPredictor:\n",
    "    def __init__(self, model_path):\n",
    "        # Load artifacts\n",
    "        self.model = joblib.load(model_path)\n",
    "        self.label_encoder = joblib.load(r'models\\label_encoder.joblib')\n",
    "        self.feature_columns = joblib.load(r'models\\feature_columns.joblib')\n",
    "        self.medians = joblib.load(r'models\\imputation_medians.joblib')\n",
    "        \n",
    "        # Create city columns template\n",
    "        self.city_columns = [col for col in self.feature_columns if col.startswith('City_')]\n",
    "\n",
    "    def preprocess_input(self, input_data):\n",
    "        # Create DataFrame\n",
    "        df = pd.DataFrame([input_data])\n",
    "        \n",
    "        # Feature engineering\n",
    "        df['PM_combined'] = df['PM2.5'] * df['PM10']\n",
    "        df['NH3_log'] = np.log1p(df['NH3'])\n",
    "        \n",
    "        # One-hot encode city\n",
    "        city = df['City'].iloc[0]\n",
    "        df = pd.get_dummies(df, columns=['City'])\n",
    "        for col in self.city_columns:\n",
    "            df[col] = 1 if col == f'City_{city}' else 0\n",
    "        \n",
    "        # Impute missing values\n",
    "        numeric_cols = [col for col in self.feature_columns if col not in self.city_columns]\n",
    "        df[numeric_cols] = df[numeric_cols].fillna(pd.Series(self.medians, index=numeric_cols))\n",
    "        \n",
    "        # Ensure column order matches training data\n",
    "        return df[self.feature_columns]\n",
    "\n",
    "    def predict(self, input_data):\n",
    "        # Validate input\n",
    "        required_fields = ['City', 'PM2.5', 'PM10', 'NO', 'NO2', 'NOx', \n",
    "                          'NH3', 'CO', 'SO2', 'O3', 'Benzene', 'Toluene']\n",
    "        if not all(field in input_data for field in required_fields):\n",
    "            raise ValueError(\"Missing required fields in input data\")\n",
    "            \n",
    "        # Preprocess\n",
    "        processed_data = self.preprocess_input(input_data)\n",
    "        \n",
    "        # Predict\n",
    "        prediction = self.model.predict(processed_data)\n",
    "        \n",
    "        # Decode label\n",
    "        return self.label_encoder.inverse_transform(prediction)[0]\n",
    "\n",
    "\n",
    "\n",
    "def prediction_func(City, PM2, PM10, NO, NO2, NOx, NH3, CO, SO2, O3, Benzene, Toluene):\n",
    "\n",
    "    input_data = {\n",
    "        'City': City,\n",
    "        'PM2.5': PM2 ,\n",
    "        'PM10': PM10,\n",
    "        'NO': NO,\n",
    "        'NO2': NO2,\n",
    "        'NOx': NOx,\n",
    "        'NH3': NH3,\n",
    "        'CO': CO,\n",
    "        'SO2': SO2,\n",
    "        'O3': O3,\n",
    "        'Benzene': Benzene,\n",
    "        'Toluene': Toluene\n",
    "    }\n",
    "\n",
    "    # Initialize predictor with your best model\n",
    "    predictor = AQIPredictor(r'models\\xgb_model.joblib')\n",
    "\n",
    "    # Get prediction\n",
    "    prediction = predictor.predict(input_data)\n",
    "    print(f\"Predicted Air Quality: {prediction}\")"
   ]
  },
  {
   "cell_type": "code",
   "execution_count": null,
   "metadata": {},
   "outputs": [
    {
     "name": "stdout",
     "output_type": "stream",
     "text": [
      "Predicted Air Quality: Good\n"
     ]
    }
   ],
   "source": [
    "# Example for Good\n",
    "prediction_func(\"Hyderabad\", 20.24, 44.74, 3.96, 27.59, 17.09, 13.09, 0.38, 6.29, 19.98, 1.31, 10.83)"
   ]
  },
  {
   "cell_type": "code",
   "execution_count": null,
   "metadata": {},
   "outputs": [
    {
     "name": "stdout",
     "output_type": "stream",
     "text": [
      "Predicted Air Quality: Moderate\n"
     ]
    }
   ],
   "source": [
    "# Example for Moderate\n",
    "prediction_func(\"Brajrajnagar\", 68.28, 140.98, 29.12, 21.59, 43.48, 59.3, 1.48, 4.94, 23.88, 0, 3.58)"
   ]
  },
  {
   "cell_type": "code",
   "execution_count": null,
   "metadata": {},
   "outputs": [
    {
     "name": "stdout",
     "output_type": "stream",
     "text": [
      "Predicted Air Quality: Poor\n"
     ]
    }
   ],
   "source": [
    "# Example for Poor\n",
    "prediction_func(\"Patna\", 103.2, 96.18, 9.72, 3.17, 9.44, 16.31, 1.49, 4.06, 21.94, 0.34, 1.31)"
   ]
  }
 ],
 "metadata": {
  "kernelspec": {
   "display_name": "Python 3",
   "language": "python",
   "name": "python3"
  },
  "language_info": {
   "codemirror_mode": {
    "name": "ipython",
    "version": 3
   },
   "file_extension": ".py",
   "mimetype": "text/x-python",
   "name": "python",
   "nbconvert_exporter": "python",
   "pygments_lexer": "ipython3",
   "version": "3.10.16"
  }
 },
 "nbformat": 4,
 "nbformat_minor": 2
}
